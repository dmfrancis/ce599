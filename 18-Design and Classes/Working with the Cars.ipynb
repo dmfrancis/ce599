{
 "cells": [
  {
   "cell_type": "code",
   "execution_count": 1,
   "metadata": {},
   "outputs": [],
   "source": [
    "import pandas as pd\n",
    "import build_road\n",
    "import sys\n",
    "from Road import Road"
   ]
  },
  {
   "cell_type": "code",
   "execution_count": 2,
   "metadata": {},
   "outputs": [],
   "source": [
    "class Car(object):\n",
    "    \n",
    "    \"\"\"\n",
    "    Base class for a car\n",
    "    \"\"\"\n",
    "    def __init__(self, color,location,direction):\n",
    "        if len(location) < 2 or len(location) > 2:\n",
    "            print('location is the x,y coordinates of the car')\n",
    "        else:    \n",
    "            self.color = color\n",
    "            self.location = location\n",
    "            self.x = location[0] \n",
    "            self.y = location[1]\n",
    "            self.direction = direction\n"
   ]
  },
  {
   "cell_type": "code",
   "execution_count": 3,
   "metadata": {},
   "outputs": [],
   "source": [
    "def go(self,units,movement):\n",
    "        \"\"\"\n",
    "        function to move the car the given distance in the given direction\n",
    "        \"\"\"\n",
    "        if movement == 'forward':\n",
    "        \n",
    "            if self.direction == 'N':\n",
    "                self.y = self.y + units\n",
    "            elif self.direction == 'S':\n",
    "                self.y = self.y - units\n",
    "            elif self.direction == 'E':\n",
    "                self.x = self.x + units\n",
    "            elif self.direction == 'W':\n",
    "                self.x = self.x - units\n",
    "            else:\n",
    "                print('Directions are N, S, E, and W')\n",
    "            self.location = [self.x,self.y]   \n",
    "        elif movement == 'backward':\n",
    "            if self.direction == 'N':\n",
    "                self.y = self.y - units\n",
    "            elif self.direction == 'S':\n",
    "                self.y = self.y + units\n",
    "            elif self.direction == 'E':\n",
    "                self.x = self.x - units\n",
    "            elif self.direction == 'W':\n",
    "                self.x = self.x + units\n",
    "            else:\n",
    "                print('Direction options are N, S, E, and W')\n",
    "            self.location = [self.x,self.y]   \n",
    "  \n",
    "        else:\n",
    "            print('Only movements are forward and backward')"
   ]
  },
  {
   "cell_type": "code",
   "execution_count": 4,
   "metadata": {},
   "outputs": [],
   "source": [
    "def turn_right(self):\n",
    "        if self.direction == 'N':\n",
    "            self.direction = 'E'\n",
    "        elif self.direction == 'S':\n",
    "            self.direction = 'W'\n",
    "        elif self.direction == 'E':\n",
    "            self.direction = 'S'\n",
    "        elif self.direction == 'W':\n",
    "            self.direction = 'N'\n",
    "        else:\n",
    "            print('wrong way')\n",
    "def turn_left(self):\n",
    "        if self.direction == 'N':\n",
    "            self.direction = 'W'\n",
    "        elif self.direction == 'S':\n",
    "            self.direction = 'E'\n",
    "        elif self.direction == 'E':\n",
    "            self.direction = 'N'\n",
    "        elif self.direction == 'W':\n",
    "            self.direction = 'S'\n",
    "        else:\n",
    "            print('wrong way')"
   ]
  },
  {
   "cell_type": "code",
   "execution_count": 5,
   "metadata": {},
   "outputs": [
    {
     "name": "stdout",
     "output_type": "stream",
     "text": [
      "yellow\n",
      "[0, 0]\n",
      "N\n",
      "yellow\n",
      "[-1, 2]\n",
      "W\n"
     ]
    }
   ],
   "source": [
    "yellowcar = Car(color = 'yellow',location = [0,0], direction = 'N')\n",
    "\n",
    "print(yellowcar.color)\n",
    "print(yellowcar.location)\n",
    "print(yellowcar.direction)\n",
    "\n",
    "go(yellowcar,2,'forward')\n",
    "turn_left(yellowcar)\n",
    "go(yellowcar,1,'forward')\n",
    "\n",
    "print(yellowcar.color)\n",
    "print(yellowcar.location)\n",
    "print(yellowcar.direction)"
   ]
  },
  {
   "cell_type": "code",
   "execution_count": 6,
   "metadata": {},
   "outputs": [
    {
     "name": "stdout",
     "output_type": "stream",
     "text": [
      "Green\n",
      "[0, 0]\n",
      "N\n",
      "Green\n",
      "[-1, 2]\n",
      "N\n"
     ]
    }
   ],
   "source": [
    "greencar = Car(color = 'Green',location = [0,0], direction = 'N')\n",
    "\n",
    "print(greencar.color)\n",
    "print(greencar.location)\n",
    "print(greencar.direction)\n",
    "\n",
    "turn_left(greencar)\n",
    "go(greencar,1,'forward')\n",
    "turn_right(greencar)\n",
    "go(greencar,2,'forward')\n",
    "\n",
    "print(greencar.color)\n",
    "print(greencar.location)\n",
    "print(greencar.direction)"
   ]
  },
  {
   "cell_type": "code",
   "execution_count": null,
   "metadata": {},
   "outputs": [],
   "source": []
  }
 ],
 "metadata": {
  "kernelspec": {
   "display_name": "Python 3",
   "language": "python",
   "name": "python3"
  },
  "language_info": {
   "codemirror_mode": {
    "name": "ipython",
    "version": 3
   },
   "file_extension": ".py",
   "mimetype": "text/x-python",
   "name": "python",
   "nbconvert_exporter": "python",
   "pygments_lexer": "ipython3",
   "version": "3.6.4"
  }
 },
 "nbformat": 4,
 "nbformat_minor": 2
}
